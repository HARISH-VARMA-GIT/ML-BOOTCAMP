{
  "nbformat": 4,
  "nbformat_minor": 0,
  "metadata": {
    "colab": {
      "name": "Linear Regression",
      "provenance": [],
      "collapsed_sections": []
    },
    "kernelspec": {
      "name": "python3",
      "display_name": "Python 3"
    },
    "language_info": {
      "name": "python"
    }
  },
  "cells": [
    {
      "cell_type": "markdown",
      "metadata": {
        "id": "3vmvjT6PRS5g"
      },
      "source": [
        "*Linear Regression on MNIST Dataset*"
      ]
    },
    {
      "cell_type": "code",
      "metadata": {
        "id": "e-7AJGpv-8YV"
      },
      "source": [
        "#Importing useful Libraries\n",
        "\n",
        "import numpy as np\n",
        "import pandas as pd \n",
        "import matplotlib.pyplot as plt"
      ],
      "execution_count": 10,
      "outputs": []
    },
    {
      "cell_type": "code",
      "metadata": {
        "id": "Lo_aGIhLw4Km"
      },
      "source": [
        "def initialize_parameters(lenw):                                                ## Initialising Weights as 'w' and Bias term as 'b'\n",
        "   w = np.random.randn(1,lenw)\n",
        "   b = 0\n",
        "   return w,b"
      ],
      "execution_count": 11,
      "outputs": []
    },
    {
      "cell_type": "code",
      "metadata": {
        "id": "VP1vyN0kxKY1"
      },
      "source": [
        "def forward_prop(X,w,b):                                                        ## Creating a Hypothesis Function 'z'\n",
        "   z = np.dot(w,X) + b\n",
        "   return z"
      ],
      "execution_count": 12,
      "outputs": []
    },
    {
      "cell_type": "code",
      "metadata": {
        "id": "HVNfRgHTxS2f"
      },
      "source": [
        "def cost_fuction(z,y):                                                          ## Creating a Cost Funtion with 'm' training examples\n",
        "   m = y.shape[0]\n",
        "   J = (1/2*m)*np.sum(np.square(z-y))\n",
        "   return J"
      ],
      "execution_count": 13,
      "outputs": []
    },
    {
      "cell_type": "code",
      "metadata": {
        "id": "ie8PGLsYxcE8"
      },
      "source": [
        "def back_prop(X,y,z):                                                           ## Computing Partial Derivative Terms\n",
        "   m = y.shape[0]\n",
        "   dz = (1/m)*(z-y)\n",
        "   dw = np.dot(dz,X.T)\n",
        "   db = np.sum(dz)\n",
        "   return dw,db"
      ],
      "execution_count": 14,
      "outputs": []
    },
    {
      "cell_type": "code",
      "metadata": {
        "id": "jZS_mA6VxhIA"
      },
      "source": [
        "def gradient_descent_update(w,b,dw,db,learning_rate):                           ## Updating Weights and Bias\n",
        "   w = w-learning_rate*dw\n",
        "   b = b-learning_rate*db\n",
        "   return w,b"
      ],
      "execution_count": 15,
      "outputs": []
    },
    {
      "cell_type": "code",
      "metadata": {
        "id": "x7Y0CscBxpp_"
      },
      "source": [
        "  def linear_regression_model(X_train,y_train,X_test,y_test,learning_rate,epochs):\n",
        "   lenw = X_train.shape[0]\n",
        "   w,b = initialize_parameters(lenw)\n",
        " \n",
        "   costs_train = []\n",
        "   m_train = y_train.shape[0]\n",
        "   m_test = y_test.shape[0]\n",
        " \n",
        "# \"Epochs\" is a Hyper Parameter that defines no of times the learning algorithm will work through entire dataset\n",
        "\n",
        "   for i in range(1,epochs+1):                                                  ## Creating a Loop for Simultaneous Updating of 'w','b'\n",
        "    z_train = forward_prop(X_train,w,b)\n",
        "    cost_train = cost_fuction(z_train,y_train)                                  \n",
        "    dw,db = back_prop(X_train,y_train,z_train)\n",
        "    w,b = gradient_descent_update(w,b,dw,db,learning_rate)\n",
        " \n",
        " \n",
        "    if i%10==0:\n",
        "      costs_train.append(cost_train)\n",
        " \n",
        "      MAE_train=(1/m_train)*np.sum(np.abs(z_train-y_train))                     ##Calculating Mean Absolute Errors of Training Examples\n",
        " \n",
        "      z_test = forward_prop(X_test,w,b)\n",
        "      cost_val = cost_fuction(z_test,y_test)\n",
        "      MAE_val = (1/m_test)*np.sum(np.abs(z_test-y_test))\n",
        " \n",
        " \n",
        "      print('Epochs'+str(i)+'/'+str(epochs)+':')\n",
        "      print('Training cost'+str(cost_train)+'|'+'Validation cost'+str(cost_val))\n",
        "      print('Training MAE'+str(MAE_train)+'|'+'Validation MAE'+str(MAE_val))\n",
        " \n",
        "   plt.plot(costs_train)                                                        ##Visualising the Cost Function with Iterations\n",
        "   plt.xlabel('iteration')\n",
        "   plt.ylabel('training cost')\n",
        "   plt.title('lr'+str(learning_rate))\n",
        "   plt.show()"
      ],
      "execution_count": 16,
      "outputs": []
    },
    {
      "cell_type": "code",
      "metadata": {
        "id": "uYkrUFY5FXyN",
        "colab": {
          "base_uri": "https://localhost:8080/"
        },
        "outputId": "76bcdcb4-7244-4b4d-804c-6a8bc704762e"
      },
      "source": [
        "#Loading and Visualising the MNIST Training Dataset\n",
        "\n",
        "df = pd.read_csv('/content/sample_data/mnist_train_small.csv',header=None)\n",
        "df.head(),df.shape\n"
      ],
      "execution_count": 17,
      "outputs": [
        {
          "output_type": "execute_result",
          "data": {
            "text/plain": [
              "(   0    1    2    3    4    5    6    ...  778  779  780  781  782  783  784\n",
              " 0    6    0    0    0    0    0    0  ...    0    0    0    0    0    0    0\n",
              " 1    5    0    0    0    0    0    0  ...    0    0    0    0    0    0    0\n",
              " 2    7    0    0    0    0    0    0  ...    0    0    0    0    0    0    0\n",
              " 3    9    0    0    0    0    0    0  ...    0    0    0    0    0    0    0\n",
              " 4    5    0    0    0    0    0    0  ...    0    0    0    0    0    0    0\n",
              " \n",
              " [5 rows x 785 columns], (20000, 785))"
            ]
          },
          "metadata": {
            "tags": []
          },
          "execution_count": 17
        }
      ]
    },
    {
      "cell_type": "code",
      "metadata": {
        "colab": {
          "base_uri": "https://localhost:8080/"
        },
        "id": "Y14INj5kZsvX",
        "outputId": "7f7ebdfe-5e1a-4b18-ccb0-dd9626da1c52"
      },
      "source": [
        "df.describe(),df.info(),df.isnull().sum()                                       ##The Data is free from Null Values "
      ],
      "execution_count": 18,
      "outputs": [
        {
          "output_type": "stream",
          "text": [
            "<class 'pandas.core.frame.DataFrame'>\n",
            "RangeIndex: 20000 entries, 0 to 19999\n",
            "Columns: 785 entries, 0 to 784\n",
            "dtypes: int64(785)\n",
            "memory usage: 119.8 MB\n"
          ],
          "name": "stdout"
        },
        {
          "output_type": "execute_result",
          "data": {
            "text/plain": [
              "(                0        1        2    ...      782      783      784\n",
              " count  20000.000000  20000.0  20000.0  ...  20000.0  20000.0  20000.0\n",
              " mean       4.470200      0.0      0.0  ...      0.0      0.0      0.0\n",
              " std        2.892755      0.0      0.0  ...      0.0      0.0      0.0\n",
              " min        0.000000      0.0      0.0  ...      0.0      0.0      0.0\n",
              " 25%        2.000000      0.0      0.0  ...      0.0      0.0      0.0\n",
              " 50%        4.000000      0.0      0.0  ...      0.0      0.0      0.0\n",
              " 75%        7.000000      0.0      0.0  ...      0.0      0.0      0.0\n",
              " max        9.000000      0.0      0.0  ...      0.0      0.0      0.0\n",
              " \n",
              " [8 rows x 785 columns], None, 0      0\n",
              " 1      0\n",
              " 2      0\n",
              " 3      0\n",
              " 4      0\n",
              "       ..\n",
              " 780    0\n",
              " 781    0\n",
              " 782    0\n",
              " 783    0\n",
              " 784    0\n",
              " Length: 785, dtype: int64)"
            ]
          },
          "metadata": {
            "tags": []
          },
          "execution_count": 18
        }
      ]
    },
    {
      "cell_type": "code",
      "metadata": {
        "colab": {
          "base_uri": "https://localhost:8080/"
        },
        "id": "RV7-FAkwa6-p",
        "outputId": "87459048-3af0-4319-ab85-f41f24891260"
      },
      "source": [
        "#Loading and Visualising the MNIST Testing Dataset\n",
        "\n",
        "df1 = pd.read_csv('/content/sample_data/mnist_test.csv',header = None)         \n",
        "df1.head(),df1.shape"
      ],
      "execution_count": 19,
      "outputs": [
        {
          "output_type": "execute_result",
          "data": {
            "text/plain": [
              "(   0    1    2    3    4    5    6    ...  778  779  780  781  782  783  784\n",
              " 0    7    0    0    0    0    0    0  ...    0    0    0    0    0    0    0\n",
              " 1    2    0    0    0    0    0    0  ...    0    0    0    0    0    0    0\n",
              " 2    1    0    0    0    0    0    0  ...    0    0    0    0    0    0    0\n",
              " 3    0    0    0    0    0    0    0  ...    0    0    0    0    0    0    0\n",
              " 4    4    0    0    0    0    0    0  ...    0    0    0    0    0    0    0\n",
              " \n",
              " [5 rows x 785 columns], (10000, 785))"
            ]
          },
          "metadata": {
            "tags": []
          },
          "execution_count": 19
        }
      ]
    },
    {
      "cell_type": "code",
      "metadata": {
        "colab": {
          "base_uri": "https://localhost:8080/"
        },
        "id": "_OhF1ft1bIzh",
        "outputId": "b35fafba-d73d-4a20-a827-7166380e17e9"
      },
      "source": [
        "df1.describe(),df1.info(),df1.isnull().sum()                                    ##The Data is free from Null Values "
      ],
      "execution_count": 20,
      "outputs": [
        {
          "output_type": "stream",
          "text": [
            "<class 'pandas.core.frame.DataFrame'>\n",
            "RangeIndex: 10000 entries, 0 to 9999\n",
            "Columns: 785 entries, 0 to 784\n",
            "dtypes: int64(785)\n",
            "memory usage: 59.9 MB\n"
          ],
          "name": "stdout"
        },
        {
          "output_type": "execute_result",
          "data": {
            "text/plain": [
              "(                0        1        2    ...      782      783      784\n",
              " count  10000.000000  10000.0  10000.0  ...  10000.0  10000.0  10000.0\n",
              " mean       4.443400      0.0      0.0  ...      0.0      0.0      0.0\n",
              " std        2.895865      0.0      0.0  ...      0.0      0.0      0.0\n",
              " min        0.000000      0.0      0.0  ...      0.0      0.0      0.0\n",
              " 25%        2.000000      0.0      0.0  ...      0.0      0.0      0.0\n",
              " 50%        4.000000      0.0      0.0  ...      0.0      0.0      0.0\n",
              " 75%        7.000000      0.0      0.0  ...      0.0      0.0      0.0\n",
              " max        9.000000      0.0      0.0  ...      0.0      0.0      0.0\n",
              " \n",
              " [8 rows x 785 columns], None, 0      0\n",
              " 1      0\n",
              " 2      0\n",
              " 3      0\n",
              " 4      0\n",
              "       ..\n",
              " 780    0\n",
              " 781    0\n",
              " 782    0\n",
              " 783    0\n",
              " 784    0\n",
              " Length: 785, dtype: int64)"
            ]
          },
          "metadata": {
            "tags": []
          },
          "execution_count": 20
        }
      ]
    },
    {
      "cell_type": "code",
      "metadata": {
        "id": "1D0i6b3KY_gQ"
      },
      "source": [
        "#Separating the data into Training and Testing\n",
        "\n",
        "X = (df-df.mean())/((df.max()-df.min())+0.00000001)                             ##Normalising the data\n",
        "X1 = (df1-df1.mean())/((df1.max()-df1.min())+0.00000001)\n",
        "X_train = np.array(X.iloc[:,1:785])\n",
        "y_train = np.array(df.iloc[:,0])\n",
        "X_test = np.array(X1.iloc[:,1:785])\n",
        "y_test = np.array(X1.iloc[:,0])"
      ],
      "execution_count": 21,
      "outputs": []
    },
    {
      "cell_type": "code",
      "metadata": {
        "colab": {
          "base_uri": "https://localhost:8080/"
        },
        "id": "TtXwfsiYGMJc",
        "outputId": "4364eed2-5bf2-4a6a-a08d-934dd4de7469"
      },
      "source": [
        " \n",
        "(X_train.T).shape,y_train.shape"
      ],
      "execution_count": 22,
      "outputs": [
        {
          "output_type": "execute_result",
          "data": {
            "text/plain": [
              "((784, 20000), (20000,))"
            ]
          },
          "metadata": {
            "tags": []
          },
          "execution_count": 22
        }
      ]
    },
    {
      "cell_type": "code",
      "metadata": {
        "colab": {
          "base_uri": "https://localhost:8080/",
          "height": 1000
        },
        "id": "LufQsTOXHG20",
        "outputId": "d0d4fde1-7e03-4d92-94c3-e689598ebcef"
      },
      "source": [
        "#Fit the Training and Testing Data\n",
        "linear_regression_model(X_train.T,y_train,X_test.T,y_test,0.2,700)"
      ],
      "execution_count": 23,
      "outputs": [
        {
          "output_type": "stream",
          "text": [
            "Epochs10/700:\n",
            "Training cost2864617678.2670555|Validation cost1467893494.961601\n",
            "Training MAE2.9596058252186506|Validation MAE4.517977052330585\n",
            "Epochs20/700:\n",
            "Training cost2054697670.0685418|Validation cost1486326099.7764955\n",
            "Training MAE2.5221212666921837|Validation MAE4.670713235246507\n",
            "Epochs30/700:\n",
            "Training cost1749559373.1971788|Validation cost1440057882.0820274\n",
            "Training MAE2.331616706986517|Validation MAE4.644589344646722\n",
            "Epochs40/700:\n",
            "Training cost1572989064.5137935|Validation cost1404074231.9871361\n",
            "Training MAE2.21318496083614|Validation MAE4.613947127709738\n",
            "Epochs50/700:\n",
            "Training cost1454374274.8365254|Validation cost1378913284.6521912\n",
            "Training MAE2.129882308886913|Validation MAE4.592016141193574\n",
            "Epochs60/700:\n",
            "Training cost1367666330.2740319|Validation cost1360447459.9551573\n",
            "Training MAE2.066518637692764|Validation MAE4.576300512244929\n",
            "Epochs70/700:\n",
            "Training cost1300505850.9418108|Validation cost1346117021.9551256\n",
            "Training MAE2.0155731735147935|Validation MAE4.5641354586345\n",
            "Epochs80/700:\n",
            "Training cost1246220288.5648518|Validation cost1334494591.967226\n",
            "Training MAE1.9732045836938623|Validation MAE4.554608428609357\n",
            "Epochs90/700:\n",
            "Training cost1200910270.250144|Validation cost1324756044.5192764\n",
            "Training MAE1.9367667186436965|Validation MAE4.546943928296471\n",
            "Epochs100/700:\n",
            "Training cost1162160965.5467591|Validation cost1316398698.8013573\n",
            "Training MAE1.9048032691428598|Validation MAE4.540460193298089\n",
            "Epochs110/700:\n",
            "Training cost1128402737.5261047|Validation cost1309098853.6064389\n",
            "Training MAE1.8764031159292904|Validation MAE4.53486847833652\n",
            "Epochs120/700:\n",
            "Training cost1098570470.0656726|Validation cost1302637431.8107643\n",
            "Training MAE1.8508026344377257|Validation MAE4.530153353019979\n",
            "Epochs130/700:\n",
            "Training cost1071912774.1263376|Validation cost1296859443.0077689\n",
            "Training MAE1.8275689562174464|Validation MAE4.5260527453877595\n",
            "Epochs140/700:\n",
            "Training cost1047880804.0667279|Validation cost1291650919.014008\n",
            "Training MAE1.8063615475853474|Validation MAE4.522462672515157\n",
            "Epochs150/700:\n",
            "Training cost1026061151.56719|Validation cost1286925248.6407013\n",
            "Training MAE1.7869988632724931|Validation MAE4.519226494497341\n",
            "Epochs160/700:\n",
            "Training cost1006133989.6862901|Validation cost1282614762.4832428\n",
            "Training MAE1.7691408502546435|Validation MAE4.5162870039748295\n",
            "Epochs170/700:\n",
            "Training cost987846131.3279296|Validation cost1278665355.955837\n",
            "Training MAE1.7526367922933976|Validation MAE4.5136696363737725\n",
            "Epochs180/700:\n",
            "Training cost970993156.9962329|Validation cost1275032931.5504498\n",
            "Training MAE1.7373206094686295|Validation MAE4.511351653136008\n",
            "Epochs190/700:\n",
            "Training cost955407215.747721|Validation cost1271680967.0651605\n",
            "Training MAE1.723007359461987|Validation MAE4.509283088469925\n",
            "Epochs200/700:\n",
            "Training cost940948474.4154851|Validation cost1268578803.4394853\n",
            "Training MAE1.7096109284151404|Validation MAE4.507454826811081\n",
            "Epochs210/700:\n",
            "Training cost927498976.5549401|Validation cost1265700406.8153703\n",
            "Training MAE1.6970654017096178|Validation MAE4.505875364833406\n",
            "Epochs220/700:\n",
            "Training cost914958134.1277792|Validation cost1263023452.242276\n",
            "Training MAE1.6852621640877996|Validation MAE4.504424745113065\n",
            "Epochs230/700:\n",
            "Training cost903239352.1676943|Validation cost1260528631.3874707\n",
            "Training MAE1.674133638152596|Validation MAE4.503065604921509\n",
            "Epochs240/700:\n",
            "Training cost892267457.0764866|Validation cost1258199120.022042\n",
            "Training MAE1.6636516292381078|Validation MAE4.501809517834765\n",
            "Epochs250/700:\n",
            "Training cost881976706.402224|Validation cost1256020161.917225\n",
            "Training MAE1.6537545213532303|Validation MAE4.500634462676006\n",
            "Epochs260/700:\n",
            "Training cost872309226.9632331|Validation cost1253978739.1616771\n",
            "Training MAE1.6444191248190991|Validation MAE4.499515151838825\n",
            "Epochs270/700:\n",
            "Training cost863213773.61608|Validation cost1252063307.7057202\n",
            "Training MAE1.6356217372330568|Validation MAE4.498468685397211\n",
            "Epochs280/700:\n",
            "Training cost854644731.5258521|Validation cost1250263582.8618016\n",
            "Training MAE1.627278333716312|Validation MAE4.497503812412346\n",
            "Epochs290/700:\n",
            "Training cost846561305.769899|Validation cost1248570363.5682266\n",
            "Training MAE1.6193402774193113|Validation MAE4.496598398836948\n",
            "Epochs300/700:\n",
            "Training cost838926856.7687453|Validation cost1246975387.0869803\n",
            "Training MAE1.611830738842147|Validation MAE4.495755824990891\n",
            "Epochs310/700:\n",
            "Training cost831708350.4631376|Validation cost1245471207.8536675\n",
            "Training MAE1.604699939504931|Validation MAE4.4949615932352245\n",
            "Epochs320/700:\n",
            "Training cost824875899.6822652|Validation cost1244051095.6841912\n",
            "Training MAE1.59791558604551|Validation MAE4.4942066838083745\n",
            "Epochs330/700:\n",
            "Training cost818402378.6561316|Validation cost1242708949.6373827\n",
            "Training MAE1.5914648276286645|Validation MAE4.4934778268464255\n",
            "Epochs340/700:\n",
            "Training cost812263096.7058494|Validation cost1241439224.6487114\n",
            "Training MAE1.585336801471871|Validation MAE4.4927834171252\n",
            "Epochs350/700:\n",
            "Training cost806435520.2028129|Validation cost1240236868.6651323\n",
            "Training MAE1.5795284398658334|Validation MAE4.492119823595315\n",
            "Epochs360/700:\n",
            "Training cost800899034.2013226|Validation cost1239097268.479255\n",
            "Training MAE1.5740100159523092|Validation MAE4.491502255811952\n",
            "Epochs370/700:\n",
            "Training cost795634736.9164441|Validation cost1238016202.8206985\n",
            "Training MAE1.5687484287712612|Validation MAE4.490914392385125\n",
            "Epochs380/700:\n",
            "Training cost790625261.5804547|Validation cost1236989801.5412319\n",
            "Training MAE1.5637298687435168|Validation MAE4.490342270719394\n",
            "Epochs390/700:\n",
            "Training cost785854621.2687738|Validation cost1236014509.9481072\n",
            "Training MAE1.558947257088255|Validation MAE4.489791225884319\n",
            "Epochs400/700:\n",
            "Training cost781308073.1140168|Validation cost1235087057.5115006\n",
            "Training MAE1.5543710952173064|Validation MAE4.489273538994825\n",
            "Epochs410/700:\n",
            "Training cost776971998.9794089|Validation cost1234204430.308077\n",
            "Training MAE1.550004183528871|Validation MAE4.488790216956128\n",
            "Epochs420/700:\n",
            "Training cost772833800.1809573|Validation cost1233363846.6714604\n",
            "Training MAE1.545810632079822|Validation MAE4.488339625564698\n",
            "Epochs430/700:\n",
            "Training cost768881804.2619658|Validation cost1232562735.607925\n",
            "Training MAE1.5417818570239514|Validation MAE4.487916628485581\n",
            "Epochs440/700:\n",
            "Training cost765105182.1567112|Validation cost1231798717.606593\n",
            "Training MAE1.5379124070039627|Validation MAE4.487517556900935\n",
            "Epochs450/700:\n",
            "Training cost761493874.3499247|Validation cost1231069587.5312753\n",
            "Training MAE1.5342117365743282|Validation MAE4.487142623721121\n",
            "Epochs460/700:\n",
            "Training cost758038524.8584839|Validation cost1230373299.3285956\n",
            "Training MAE1.5306562710848621|Validation MAE4.48677956478954\n",
            "Epochs470/700:\n",
            "Training cost754730422.0418199|Validation cost1229707952.3262806\n",
            "Training MAE1.5272364912129317|Validation MAE4.486435939408223\n",
            "Epochs480/700:\n",
            "Training cost751561445.395923|Validation cost1229071778.9280531\n",
            "Training MAE1.5239561067730196|Validation MAE4.486119868656888\n",
            "Epochs490/700:\n",
            "Training cost748524017.6087699|Validation cost1228463133.5387976\n",
            "Training MAE1.520797951092967|Validation MAE4.485812781377928\n",
            "Epochs500/700:\n",
            "Training cost745611061.2573817|Validation cost1227880482.5764804\n",
            "Training MAE1.5177600196879846|Validation MAE4.485513520016983\n",
            "Epochs510/700:\n",
            "Training cost742815959.6124109|Validation cost1227322395.4465714\n",
            "Training MAE1.514843284890059|Validation MAE4.485228848551061\n",
            "Epochs520/700:\n",
            "Training cost740132521.0882213|Validation cost1226787536.3710403\n",
            "Training MAE1.5120365691289845|Validation MAE4.484953245751413\n",
            "Epochs530/700:\n",
            "Training cost737554946.9372964|Validation cost1226274656.9778645\n",
            "Training MAE1.5093480127184402|Validation MAE4.484683958654402\n",
            "Epochs540/700:\n",
            "Training cost735077801.8394748|Validation cost1225782589.5688503\n",
            "Training MAE1.5067646779336676|Validation MAE4.4844260924501445\n",
            "Epochs550/700:\n",
            "Training cost732695987.0804998|Validation cost1225310240.9937458\n",
            "Training MAE1.5042880637724496|Validation MAE4.484188804717347\n",
            "Epochs560/700:\n",
            "Training cost730404716.0520116|Validation cost1224856587.067345\n",
            "Training MAE1.5019069197433776|Validation MAE4.483964253787438\n",
            "Epochs570/700:\n",
            "Training cost728199491.8374256|Validation cost1224420667.473852\n",
            "Training MAE1.4996111755392116|Validation MAE4.483746354470513\n",
            "Epochs580/700:\n",
            "Training cost726076086.6759515|Validation cost1224001581.1092982\n",
            "Training MAE1.4973858100416435|Validation MAE4.483540346626071\n",
            "Epochs590/700:\n",
            "Training cost724030523.1210868|Validation cost1223598481.8184721\n",
            "Training MAE1.495237973859712|Validation MAE4.483346512615865\n",
            "Epochs600/700:\n",
            "Training cost722059056.7307656|Validation cost1223210574.487776\n",
            "Training MAE1.4931620054938957|Validation MAE4.483160892061385\n",
            "Epochs610/700:\n",
            "Training cost720158160.1444887|Validation cost1222837111.4597056\n",
            "Training MAE1.4911524001180365|Validation MAE4.482978933385904\n",
            "Epochs620/700:\n",
            "Training cost718324508.4185942|Validation cost1222477389.238445\n",
            "Training MAE1.4892086564428935|Validation MAE4.48280199557703\n",
            "Epochs630/700:\n",
            "Training cost716554965.5046631|Validation cost1222130745.4593525\n",
            "Training MAE1.4873331189084509|Validation MAE4.4826449800017265\n",
            "Epochs640/700:\n",
            "Training cost714846571.7681966|Validation cost1221796556.0980146\n",
            "Training MAE1.4855300368261815|Validation MAE4.4824954179886864\n",
            "Epochs650/700:\n",
            "Training cost713196532.455381|Validation cost1221474232.8971238\n",
            "Training MAE1.4837874099307744|Validation MAE4.482348453134732\n",
            "Epochs660/700:\n",
            "Training cost711602207.0251572|Validation cost1221163220.991651\n",
            "Training MAE1.4821052163635828|Validation MAE4.48220597799923\n",
            "Epochs670/700:\n",
            "Training cost710061099.2721224|Validation cost1220862996.7148128\n",
            "Training MAE1.4804811967411409|Validation MAE4.482071879188112\n",
            "Epochs680/700:\n",
            "Training cost708570848.1731541|Validation cost1220573065.5690691\n",
            "Training MAE1.478909049276792|Validation MAE4.481943321916164\n",
            "Epochs690/700:\n",
            "Training cost707129219.3971691|Validation cost1220292960.3479633\n",
            "Training MAE1.477385366686717|Validation MAE4.481822290038128\n",
            "Epochs700/700:\n",
            "Training cost705734097.4232333|Validation cost1220022239.396005\n",
            "Training MAE1.4759118105654612|Validation MAE4.481708321589243\n"
          ],
          "name": "stdout"
        },
        {
          "output_type": "display_data",
          "data": {
            "image/png": "[encoded data removed]",
            "text/plain": [
              "<Figure size 432x288 with 1 Axes>"
            ]
          },
          "metadata": {
            "tags": [],
            "needs_background": "light"
          }
        }
      ]
    },
    {
      "cell_type": "code",
      "metadata": {
        "id": "7siRQxzg7xnR"
      },
      "source": [
        "from sklearn import linear_model"
      ],
      "execution_count": 30,
      "outputs": []
    },
    {
      "cell_type": "code",
      "metadata": {
        "id": "RLfBFgWd73J7"
      },
      "source": [
        "linear_regression=linear_model.LinearRegression()\n",
        "model = linear_regression.fit(X_train,y_train)\n",
        "predictions=linear_regression.predict(X_test)"
      ],
      "execution_count": 37,
      "outputs": []
    },
    {
      "cell_type": "code",
      "metadata": {
        "colab": {
          "base_uri": "https://localhost:8080/"
        },
        "id": "cn1ZB-G98hWg",
        "outputId": "74ac9d80-d6eb-4e10-9535-61591637d9eb"
      },
      "source": [
        "predictions.shape"
      ],
      "execution_count": 26,
      "outputs": [
        {
          "output_type": "execute_result",
          "data": {
            "text/plain": [
              "(10000,)"
            ]
          },
          "metadata": {
            "tags": []
          },
          "execution_count": 26
        }
      ]
    },
    {
      "cell_type": "code",
      "metadata": {
        "id": "YL-BtP9Q8zZ1"
      },
      "source": [
        "MAE_val_with_sklearn=(1/y_test.shape[0])*np.sum(np.abs(predictions-y_test))"
      ],
      "execution_count": 39,
      "outputs": []
    },
    {
      "cell_type": "code",
      "metadata": {
        "id": "WkECejE99IqP"
      },
      "source": [
        "MAE_val_with_sklearn"
      ],
      "execution_count": null,
      "outputs": []
    }
  ]
}