{
 "cells": [
  {
   "cell_type": "markdown",
   "metadata": {},
   "source": [
    "# Implementation of Linear Regression"
   ]
  },
  {
   "cell_type": "code",
   "execution_count": 1,
   "metadata": {},
   "outputs": [],
   "source": [
    "import numpy as np\n",
    "import pandas as pd"
   ]
  },
  {
   "cell_type": "markdown",
   "metadata": {},
   "source": [
    "Let us choose a function y=f(x)\n",
    "let y=2x+3\n",
    "Our data will be some random values of x in array X and the corresponding y's in Y\n",
    "On these data we will perform linear regression"
   ]
  },
  {
   "cell_type": "code",
   "execution_count": 2,
   "metadata": {},
   "outputs": [],
   "source": [
    "np.random.seed(12)"
   ]
  },
  {
   "cell_type": "code",
   "execution_count": 3,
   "metadata": {},
   "outputs": [],
   "source": [
    "m=30 #training examples\n",
    "t=20 #testing examples\n",
    "X=np.random.rand(m)*10-5\n",
    "X_test=np.random.rand(t)*10-5"
   ]
  },
  {
   "cell_type": "code",
   "execution_count": 4,
   "metadata": {},
   "outputs": [
    {
     "name": "stdout",
     "output_type": "stream",
     "text": [
      "[-3.45837158  2.40049697 -2.36684985  0.33739393 -4.85425038  4.18747008\n",
      "  4.00714854 -4.66578572  4.56949336 -3.62790679 -2.16171647  1.06083184\n",
      "  4.44225136  3.52735541 -4.97740766  0.21226027  0.52037633 -0.14622586\n",
      "  2.68134154 -3.39283247  2.6456045  -4.79190202 -3.64789822 -3.83726983\n",
      " -1.90102416  1.71452645 -0.28770222  3.16168298 -2.10413216  2.33125978]\n"
     ]
    }
   ],
   "source": [
    "print(X)"
   ]
  },
  {
   "cell_type": "code",
   "execution_count": 5,
   "metadata": {},
   "outputs": [
    {
     "name": "stdout",
     "output_type": "stream",
     "text": [
      "[-6.91674315  4.80099393 -4.7336997   0.67478787 -9.70850075  8.37494016\n",
      "  8.01429708 -9.33157145  9.13898673 -7.25581357 -4.32343294  2.12166369\n",
      "  8.88450272  7.05471082 -9.95481533  0.42452054  1.04075267 -0.29245173\n",
      "  5.36268308 -6.78566494  5.29120901 -9.58380404 -7.29579643 -7.67453965\n",
      " -3.80204831  3.4290529  -0.57540443  6.32336596 -4.20826433  4.66251955]\n"
     ]
    }
   ],
   "source": [
    "print(X*2)"
   ]
  },
  {
   "cell_type": "code",
   "execution_count": 6,
   "metadata": {},
   "outputs": [
    {
     "name": "stdout",
     "output_type": "stream",
     "text": [
      "[-1.45837158  4.40049697 -0.36684985  2.33739393 -2.85425038  6.18747008\n",
      "  6.00714854 -2.66578572  6.56949336 -1.62790679 -0.16171647  3.06083184\n",
      "  6.44225136  5.52735541 -2.97740766  2.21226027  2.52037633  1.85377414\n",
      "  4.68134154 -1.39283247  4.6456045  -2.79190202 -1.64789822 -1.83726983\n",
      "  0.09897584  3.71452645  1.71229778  5.16168298 -0.10413216  4.33125978]\n"
     ]
    }
   ],
   "source": [
    "print(X+2)"
   ]
  },
  {
   "cell_type": "code",
   "execution_count": 7,
   "metadata": {},
   "outputs": [
    {
     "name": "stdout",
     "output_type": "stream",
     "text": [
      "[ 2.02622355 -1.72430524 -1.65352471  4.78058079  1.24582112  4.50313525\n",
      "  2.67475651  3.25009253 -0.93359698 -0.48691589 -0.99368373  4.9513816\n",
      " -3.22435824  4.62596903 -0.8074973  -0.75947553 -0.3685113  -1.26276851\n",
      " -0.344919   -4.64831739]\n"
     ]
    }
   ],
   "source": [
    "print(X_test)"
   ]
  },
  {
   "cell_type": "code",
   "execution_count": 8,
   "metadata": {},
   "outputs": [],
   "source": [
    "Y=2*X+3"
   ]
  },
  {
   "cell_type": "code",
   "execution_count": 9,
   "metadata": {},
   "outputs": [
    {
     "name": "stdout",
     "output_type": "stream",
     "text": [
      "[-3.91674315  7.80099393 -1.7336997   3.67478787 -6.70850075 11.37494016\n",
      " 11.01429708 -6.33157145 12.13898673 -4.25581357 -1.32343294  5.12166369\n",
      " 11.88450272 10.05471082 -6.95481533  3.42452054  4.04075267  2.70754827\n",
      "  8.36268308 -3.78566494  8.29120901 -6.58380404 -4.29579643 -4.67453965\n",
      " -0.80204831  6.4290529   2.42459557  9.32336596 -1.20826433  7.66251955]\n"
     ]
    }
   ],
   "source": [
    "print(Y)"
   ]
  },
  {
   "cell_type": "markdown",
   "metadata": {},
   "source": [
    "let us take a graph of the data"
   ]
  },
  {
   "cell_type": "code",
   "execution_count": 10,
   "metadata": {},
   "outputs": [
    {
     "name": "stderr",
     "output_type": "stream",
     "text": [
      "Matplotlib is building the font cache; this may take a moment.\n"
     ]
    },
    {
     "data": {
      "image/png": "[encoded data removed]",
      "text/plain": [
       "<Figure size 432x288 with 1 Axes>"
      ]
     },
     "metadata": {
      "needs_background": "light"
     },
     "output_type": "display_data"
    }
   ],
   "source": [
    "import matplotlib.pyplot as plt\n",
    "plt.grid(True)\n",
    "plt.scatter(X,Y, marker = \"x\")\n",
    "plt.xlabel('X →')\n",
    "plt.ylabel('Y →')\n",
    "plt.show()"
   ]
  },
  {
   "cell_type": "markdown",
   "metadata": {},
   "source": [
    "Let us assume the hypothesis be h(x)=px+c"
   ]
  },
  {
   "cell_type": "code",
   "execution_count": 11,
   "metadata": {},
   "outputs": [],
   "source": [
    "p=20\n",
    "c=-2"
   ]
  },
  {
   "cell_type": "code",
   "execution_count": 12,
   "metadata": {},
   "outputs": [],
   "source": [
    "def plot(X, Y, X_test, Y_test):\n",
    "    plt.scatter( X, Y, c='r', marker='x' )\n",
    "    plt.plot(X_test, Y_test , '-o')\n",
    "    plt.xlabel('X →')\n",
    "    plt.ylabel('Y →')\n",
    "    plt.show()"
   ]
  },
  {
   "cell_type": "markdown",
   "metadata": {},
   "source": [
    "y(pred)=px+c"
   ]
  },
  {
   "cell_type": "code",
   "execution_count": 13,
   "metadata": {},
   "outputs": [
    {
     "data": {
      "image/png": "[encoded data removed]",
      "text/plain": [
       "<Figure size 432x288 with 1 Axes>"
      ]
     },
     "metadata": {
      "needs_background": "light"
     },
     "output_type": "display_data"
    }
   ],
   "source": [
    "Y_test =p*X_test+c \n",
    "plot(X, Y, X_test, Y_test)"
   ]
  },
  {
   "cell_type": "code",
   "execution_count": 14,
   "metadata": {},
   "outputs": [
    {
     "data": {
      "text/plain": [
       "30"
      ]
     },
     "execution_count": 14,
     "metadata": {},
     "output_type": "execute_result"
    }
   ],
   "source": [
    "len(X)"
   ]
  },
  {
   "cell_type": "code",
   "execution_count": 15,
   "metadata": {},
   "outputs": [],
   "source": [
    "def train_lr(no_of_iterations, learning_rate, X, Y, X_test):\n",
    " \n",
    "    p = 20\n",
    "    c = -2\n",
    "\n",
    "    m_train =len(X)\n",
    "    for t in range(no_of_iterations):\n",
    "        \n",
    "        Y_pred = p*X+c\n",
    "        \n",
    "        \n",
    "        loss = (np.sum((Y_pred-Y)**2))/(2*m_train)\n",
    "        \n",
    "        grad_p = (np.sum(X*(Y_pred-Y))/m_train)\n",
    "        grad_c = (np.sum((Y_pred-Y))/m_train)\n",
    "\n",
    "        \n",
    "        p  = p-learning_rate*grad_p\n",
    "        c  = c-learning_rate*grad_c\n",
    "\n",
    "        Y_test = p*X_test+c\n",
    "\n",
    "        if t%10 == 0 : \n",
    "            print(f\"After {t} iteration:\")\n",
    "            print(\"Loss: \",loss)\n",
    "            plot(X, Y, X_test, Y_test)\n",
    "    return p,c"
   ]
  },
  {
   "cell_type": "code",
   "execution_count": 16,
   "metadata": {},
   "outputs": [
    {
     "name": "stdout",
     "output_type": "stream",
     "text": [
      "After 0 iteration:\n",
      "Loss:  1672.242165458756\n"
     ]
    },
    {
     "data": {
      "image/png": "[encoded data removed]",
      "text/plain": [
       "<Figure size 432x288 with 1 Axes>"
      ]
     },
     "metadata": {
      "needs_background": "light"
     },
     "output_type": "display_data"
    },
    {
     "name": "stdout",
     "output_type": "stream",
     "text": [
      "After 10 iteration:\n",
      "Loss:  205.7738574865715\n"
     ]
    },
    {
     "data": {
      "image/png": "[encoded data removed]",
      "text/plain": [
       "<Figure size 432x288 with 1 Axes>"
      ]
     },
     "metadata": {
      "needs_background": "light"
     },
     "output_type": "display_data"
    },
    {
     "name": "stdout",
     "output_type": "stream",
     "text": [
      "After 20 iteration:\n",
      "Loss:  30.091561510215264\n"
     ]
    },
    {
     "data": {
      "image/png": "[encoded data removed]",
      "text/plain": [
       "<Figure size 432x288 with 1 Axes>"
      ]
     },
     "metadata": {
      "needs_background": "light"
     },
     "output_type": "display_data"
    },
    {
     "name": "stdout",
     "output_type": "stream",
     "text": [
      "After 30 iteration:\n",
      "Loss:  8.17901997901537\n"
     ]
    },
    {
     "data": {
      "image/png": "[encoded data removed]",
      "text/plain": [
       "<Figure size 432x288 with 1 Axes>"
      ]
     },
     "metadata": {
      "needs_background": "light"
     },
     "output_type": "display_data"
    },
    {
     "name": "stdout",
     "output_type": "stream",
     "text": [
      "After 40 iteration:\n",
      "Loss:  4.741460253351902\n"
     ]
    },
    {
     "data": {
      "image/png": "[encoded data removed]",
      "text/plain": [
       "<Figure size 432x288 with 1 Axes>"
      ]
     },
     "metadata": {
      "needs_background": "light"
     },
     "output_type": "display_data"
    }
   ],
   "source": [
    "p, c = train_lr(no_of_iterations=50, learning_rate=0.01, X=X, Y=Y, X_test=X_test)"
   ]
  },
  {
   "cell_type": "code",
   "execution_count": 17,
   "metadata": {},
   "outputs": [
    {
     "data": {
      "text/html": [
       "<div>\n",
       "<style scoped>\n",
       "    .dataframe tbody tr th:only-of-type {\n",
       "        vertical-align: middle;\n",
       "    }\n",
       "\n",
       "    .dataframe tbody tr th {\n",
       "        vertical-align: top;\n",
       "    }\n",
       "\n",
       "    .dataframe thead th {\n",
       "        text-align: right;\n",
       "    }\n",
       "</style>\n",
       "<table border=\"1\" class=\"dataframe\">\n",
       "  <thead>\n",
       "    <tr style=\"text-align: right;\">\n",
       "      <th></th>\n",
       "      <th>X_test</th>\n",
       "      <th>Predicted_target</th>\n",
       "      <th>Original_target</th>\n",
       "    </tr>\n",
       "  </thead>\n",
       "  <tbody>\n",
       "    <tr>\n",
       "      <th>0</th>\n",
       "      <td>2.026224</td>\n",
       "      <td>4.362148</td>\n",
       "      <td>11.078671</td>\n",
       "    </tr>\n",
       "    <tr>\n",
       "      <th>1</th>\n",
       "      <td>-1.724305</td>\n",
       "      <td>-3.158642</td>\n",
       "      <td>-0.172916</td>\n",
       "    </tr>\n",
       "    <tr>\n",
       "      <th>2</th>\n",
       "      <td>-1.653525</td>\n",
       "      <td>-3.016709</td>\n",
       "      <td>0.039426</td>\n",
       "    </tr>\n",
       "    <tr>\n",
       "      <th>3</th>\n",
       "      <td>4.780581</td>\n",
       "      <td>9.885354</td>\n",
       "      <td>19.341742</td>\n",
       "    </tr>\n",
       "    <tr>\n",
       "      <th>4</th>\n",
       "      <td>1.245821</td>\n",
       "      <td>2.797237</td>\n",
       "      <td>8.737463</td>\n",
       "    </tr>\n",
       "  </tbody>\n",
       "</table>\n",
       "</div>"
      ],
      "text/plain": [
       "     X_test  Predicted_target  Original_target\n",
       "0  2.026224          4.362148        11.078671\n",
       "1 -1.724305         -3.158642        -0.172916\n",
       "2 -1.653525         -3.016709         0.039426\n",
       "3  4.780581          9.885354        19.341742\n",
       "4  1.245821          2.797237         8.737463"
      ]
     },
     "execution_count": 17,
     "metadata": {},
     "output_type": "execute_result"
    }
   ],
   "source": [
    "import pandas as pd\n",
    "y = X_test * p + c\n",
    "y_orig = X_test*3 + 5\n",
    "df = pd.DataFrame(columns=['X_test','Predicted_target', 'Original_target'])\n",
    "df['X_test'] = X_test\n",
    "df['Predicted_target'] = y\n",
    "df['Original_target'] = y_orig\n",
    "df.head() "
   ]
  },
  {
   "cell_type": "code",
   "execution_count": null,
   "metadata": {},
   "outputs": [],
   "source": [
    "The end"
   ]
  },
  {
   "cell_type": "markdown",
   "metadata": {},
   "source": []
  }
 ],
 "metadata": {
  "kernelspec": {
   "display_name": "Python 3",
   "language": "python",
   "name": "python3"
  },
  "language_info": {
   "codemirror_mode": {
    "name": "ipython",
    "version": 3
   },
   "file_extension": ".py",
   "mimetype": "text/x-python",
   "name": "python",
   "nbconvert_exporter": "python",
   "pygments_lexer": "ipython3",
   "version": "3.8.5"
  }
 },
 "nbformat": 4,
 "nbformat_minor": 4
}
